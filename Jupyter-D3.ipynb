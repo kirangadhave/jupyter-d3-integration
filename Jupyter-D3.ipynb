{
 "cells": [
  {
   "cell_type": "markdown",
   "metadata": {},
   "source": [
    "# D3 integration in Jupyter notebook"
   ]
  },
  {
   "cell_type": "markdown",
   "metadata": {},
   "source": [
    "### Goal: \n",
    "\n",
    "The main goal is to integrate D3 in jupyter notebook and achieve two way communication between front end javascript and backend python notebook. This will allow us to get the data from user interaction.\n"
   ]
  },
  {
   "cell_type": "markdown",
   "metadata": {
    "collapsed": true
   },
   "source": [
    "### Libraries:\n",
    "\n",
    "The main component we will be using is ipywidgets. You can learn more about this at http://ipywidgets.readthedocs.io/en/latest/.\n",
    "Using widgets we can build interactive visualizations in notebooks.\n",
    " \n",
    "Apart from ipywidgets, othe libraries we will be using are pandas for data manupulation, Ipython.display to display the widget."
   ]
  },
  {
   "cell_type": "code",
   "execution_count": 17,
   "metadata": {
    "collapsed": true
   },
   "outputs": [],
   "source": [
    "import ipywidgets as widgets\n",
    "from IPython.display import display\n",
    "from traitlets import Unicode, validate, List\n",
    "import pandas as pd"
   ]
  },
  {
   "cell_type": "markdown",
   "metadata": {},
   "source": [
    "We will be following the example on building a custom widget from http://ipywidgets.readthedocs.io/en/latest/examples/Widget%20Custom.html"
   ]
  },
  {
   "cell_type": "markdown",
   "metadata": {},
   "source": [
    "#### Import d3 using require"
   ]
  },
  {
   "cell_type": "code",
   "execution_count": 18,
   "metadata": {},
   "outputs": [
    {
     "data": {
      "application/javascript": [
       "require.config({\n",
       "    paths: {\n",
       "        d3: 'https://d3js.org/d3.v4.min'\n",
       "    }\n",
       "});"
      ],
      "text/plain": [
       "<IPython.core.display.Javascript object>"
      ]
     },
     "metadata": {},
     "output_type": "display_data"
    }
   ],
   "source": [
    "%%javascript\n",
    "require.config({\n",
    "    paths: {\n",
    "        d3: 'https://d3js.org/d3.v4.min'\n",
    "    }\n",
    "});"
   ]
  },
  {
   "cell_type": "markdown",
   "metadata": {},
   "source": [
    "## Example 1: Bar Chart - Selection\n",
    "We will be using the soccer player data set for all of our examples.\n",
    "\n",
    "The data contains top 50 players and attributes like overall_score, crossing, finishing etc. over the years 2007-16. We will mostly use the overall_score attribute.\n",
    "\n",
    "In the first chart, we will show top 5 players with maximum overall score averaged over the years as a bar chart. If user clicks on any one bar chart, then we will show the progress of the player over the years."
   ]
  },
  {
   "cell_type": "code",
   "execution_count": 3,
   "metadata": {
    "collapsed": true
   },
   "outputs": [],
   "source": [
    "players_data = pd.read_csv(open(\"player_data.csv\"))\n",
    "data_average = players_data.groupby('player_name')['overall_rating'].mean().reset_index(name='average_score')\n",
    "data_average_top5 = data_average.head(5)"
   ]
  },
  {
   "cell_type": "markdown",
   "metadata": {},
   "source": [
    "First, create a back-end python class for our widget."
   ]
  },
  {
   "cell_type": "code",
   "execution_count": 4,
   "metadata": {
    "collapsed": true
   },
   "outputs": [],
   "source": [
    "class BarWidget(widgets.DOMWidget):\n",
    "    _view_name = Unicode('BarView').tag(sync=True)\n",
    "    _view_module = Unicode('barChart').tag(sync=True)\n",
    "    _view_module_version = Unicode('0.1.0').tag(sync=True)\n",
    "    value = List([]).tag(sync=True)\n",
    "    player_name = Unicode('').tag(sync=True)"
   ]
  },
  {
   "cell_type": "markdown",
   "metadata": {
    "collapsed": true
   },
   "source": [
    "Next, we will create the front-end backbone view. The view name should be same as that of back-end class. This helps the\n",
    "widget framework to link both.\n",
    "\n",
    "The render method is where our javascript code lies. We will use this section to render our d3 chart."
   ]
  },
  {
   "cell_type": "code",
   "execution_count": 5,
   "metadata": {},
   "outputs": [
    {
     "data": {
      "application/javascript": [
       "require.undef('barChart');\n",
       "\n",
       "define('barChart', [\"@jupyter-widgets/base\", \"d3\"], function(widgets, d3) {\n",
       "\n",
       "    var BarView = widgets.DOMWidgetView.extend({\n",
       "\n",
       "        render: function() {\n",
       "            this.value_changed();\n",
       "            this.model.on('change:value', this.value_changed, this);\n",
       "        },\n",
       "         value_changed: function() {\n",
       "            console.log(\"Inside bar value_changed\");\n",
       "            var data = this.model.get('value');\n",
       "            var self = this;\n",
       "            console.log(\"data is \",data)\n",
       "            var margin = {top: 20, right: 20, bottom: 30, left: 40},\n",
       "            width = 400 - margin.left - margin.right,\n",
       "            height = 300 - margin.top - margin.bottom;\n",
       "\n",
       "            // set the ranges\n",
       "            var x = d3.scaleBand()\n",
       "                      .range([0, width])\n",
       "                      .padding(0.1);\n",
       "            var y = d3.scaleLinear()\n",
       "                      .range([height, 0]);\n",
       "            $(\"#barChart\").remove();\n",
       "            this.$el.append(\"<div id='barChart'></div>\");\n",
       "            $(\"#barChart\").width(\"400px\");\n",
       "            $(\"#barChart\").height(\"300px\");\n",
       "            // console.log(d3);\n",
       "            var svg = d3.select(\"#barChart\").append(\"svg\")\n",
       "                        .attr(\"width\", width + margin.left + margin.right)\n",
       "                        .attr(\"height\", height + margin.top + margin.bottom)\n",
       "                        .append(\"g\")\n",
       "                        .attr(\"transform\", \n",
       "                              \"translate(\" + margin.left + \",\" + margin.top + \")\");\n",
       "            \n",
       "            x.domain(data.map(function(d) { return d.player_name; }));\n",
       "            y.domain([0, d3.max(data, function(d) { return d.average_score; })]);\n",
       "            console.log(svg);\n",
       "            // append the rectangles for the bar chart\n",
       "            svg.selectAll(\".bar\")\n",
       "                .data(data)\n",
       "                .enter().append(\"rect\")\n",
       "                .attr(\"class\", \"bar\")\n",
       "                .attr(\"x\", function(d) { return x(d.player_name); })\n",
       "                .attr(\"width\", x.bandwidth())\n",
       "                .attr(\"y\", function(d) { return y(d.average_score); })\n",
       "                .attr(\"height\", function(d) { return height - y(d.average_score); })\n",
       "                .style(\"fill\",\"steelblue\")\n",
       "                .on(\"click\", function(d){\n",
       "                    d3.selectAll('.bar').style(\"fill\",\"steelblue\");\n",
       "                    d3.select(this).style(\"fill\",\"green\");\n",
       "                    self.model.set('player_name', d.player_name);\n",
       "                    self.model.save_changes();\n",
       "                    self.touch();\n",
       "                });\n",
       "\n",
       "            // add the x Axis\n",
       "            svg.append(\"g\")\n",
       "            .attr(\"transform\", \"translate(0,\" + height + \")\")\n",
       "            .call(d3.axisBottom(x));\n",
       "\n",
       "            // add the y Axis\n",
       "            svg.append(\"g\")\n",
       "            .call(d3.axisLeft(y));\n",
       "            \n",
       "        },\n",
       "    });\n",
       "\n",
       "    return {\n",
       "        BarView : BarView\n",
       "    };\n",
       "});"
      ],
      "text/plain": [
       "<IPython.core.display.Javascript object>"
      ]
     },
     "metadata": {},
     "output_type": "display_data"
    }
   ],
   "source": [
    "%%javascript\n",
    "require.undef('barChart');\n",
    "\n",
    "define('barChart', [\"@jupyter-widgets/base\", \"d3\"], function(widgets, d3) {\n",
    "\n",
    "    var BarView = widgets.DOMWidgetView.extend({\n",
    "\n",
    "        render: function() {\n",
    "            this.value_changed();\n",
    "            this.model.on('change:value', this.value_changed, this);\n",
    "        },\n",
    "         value_changed: function() {\n",
    "            console.log(\"Inside bar value_changed\");\n",
    "            var data = this.model.get('value');\n",
    "            var self = this;\n",
    "            console.log(\"data is \",data)\n",
    "            var margin = {top: 20, right: 20, bottom: 30, left: 40},\n",
    "            width = 400 - margin.left - margin.right,\n",
    "            height = 300 - margin.top - margin.bottom;\n",
    "\n",
    "            // set the ranges\n",
    "            var x = d3.scaleBand()\n",
    "                      .range([0, width])\n",
    "                      .padding(0.1);\n",
    "            var y = d3.scaleLinear()\n",
    "                      .range([height, 0]);\n",
    "            $(\"#barChart\").remove();\n",
    "            this.$el.append(\"<div id='barChart'></div>\");\n",
    "            $(\"#barChart\").width(\"400px\");\n",
    "            $(\"#barChart\").height(\"300px\");\n",
    "            // console.log(d3);\n",
    "            var svg = d3.select(\"#barChart\").append(\"svg\")\n",
    "                        .attr(\"width\", width + margin.left + margin.right)\n",
    "                        .attr(\"height\", height + margin.top + margin.bottom)\n",
    "                        .append(\"g\")\n",
    "                        .attr(\"transform\", \n",
    "                              \"translate(\" + margin.left + \",\" + margin.top + \")\");\n",
    "            \n",
    "            x.domain(data.map(function(d) { return d.player_name; }));\n",
    "            y.domain([0, d3.max(data, function(d) { return d.average_score; })]);\n",
    "            console.log(svg);\n",
    "            // append the rectangles for the bar chart\n",
    "            svg.selectAll(\".bar\")\n",
    "                .data(data)\n",
    "                .enter().append(\"rect\")\n",
    "                .attr(\"class\", \"bar\")\n",
    "                .attr(\"x\", function(d) { return x(d.player_name); })\n",
    "                .attr(\"width\", x.bandwidth())\n",
    "                .attr(\"y\", function(d) { return y(d.average_score); })\n",
    "                .attr(\"height\", function(d) { return height - y(d.average_score); })\n",
    "                .style(\"fill\",\"steelblue\")\n",
    "                .on(\"click\", function(d){\n",
    "                    d3.selectAll('.bar').style(\"fill\",\"steelblue\");\n",
    "                    d3.select(this).style(\"fill\",\"green\");\n",
    "                    self.model.set('player_name', d.player_name);\n",
    "                    self.model.save_changes();\n",
    "                    self.touch();\n",
    "                });\n",
    "\n",
    "            // add the x Axis\n",
    "            svg.append(\"g\")\n",
    "            .attr(\"transform\", \"translate(0,\" + height + \")\")\n",
    "            .call(d3.axisBottom(x));\n",
    "\n",
    "            // add the y Axis\n",
    "            svg.append(\"g\")\n",
    "            .call(d3.axisLeft(y));\n",
    "            \n",
    "        },\n",
    "    });\n",
    "\n",
    "    return {\n",
    "        BarView : BarView\n",
    "    };\n",
    "});"
   ]
  },
  {
   "cell_type": "markdown",
   "metadata": {},
   "source": [
    "Lets create the widget for Line chart to show the progress of a player whose bar is selected.\n",
    "\n",
    "For this again, we need to create the back-end python model."
   ]
  },
  {
   "cell_type": "code",
   "execution_count": 6,
   "metadata": {
    "collapsed": true
   },
   "outputs": [],
   "source": [
    "class LineWidget(widgets.DOMWidget):\n",
    "    _view_name = Unicode('LineView').tag(sync=True)\n",
    "    _view_module = Unicode('lineChart').tag(sync=True)\n",
    "    _view_module_version = Unicode('0.1.0').tag(sync=True)\n",
    "    value = List([]).tag(sync=True)\n",
    "    selected_years = List([]).tag(sync=True)"
   ]
  },
  {
   "cell_type": "markdown",
   "metadata": {},
   "source": [
    "Now, the front-end view for the line chart"
   ]
  },
  {
   "cell_type": "code",
   "execution_count": 8,
   "metadata": {},
   "outputs": [
    {
     "data": {
      "application/javascript": [
       "require.undef('lineChart');\n",
       "define('lineChart', [\"@jupyter-widgets/base\", \"d3\"], function(widgets, d3) {\n",
       "\n",
       "    var LineView = widgets.DOMWidgetView.extend({\n",
       "\n",
       "        render: function() {\n",
       "            this.value_changed();\n",
       "//             this.model.on('change:value', this.value_changed, this);\n",
       "            this.listenTo(this.model, 'change:value', this.value_changed, this);\n",
       "        },\n",
       "\n",
       "        value_changed: function() {\n",
       "            var player = this.model.get('value');\n",
       "            var that = this;\n",
       "            var test = this.model.get('count');\n",
       "//             alert(test);\n",
       "var yearValues = [];\n",
       "var attribValues = [];\n",
       "var playerYearDataList = [];\n",
       "player.sort(function(x, y){\n",
       "    return d3.ascending(x[2], y[2]);\n",
       "})\n",
       "console.log(player);\n",
       "player.forEach(function(d){\n",
       "    yearValues.push(d[\"year\"]);\n",
       "    attribValues.push(d[\"overall_rating\"]);\n",
       "})\n",
       "console.log(yearValues);\n",
       "console.log(attribValues);\n",
       "var margin = {top: 10, right: 30, bottom: 30, left: 50};\n",
       "var svgHeight = 400;\n",
       "var svgWidth = 1000;\n",
       "  //create canvas\n",
       "  $(\"#chart1\").remove();\n",
       "  this.$el.append(\"<div id='chart1'></div>\");\n",
       "  $(\"#chart1\").width(\"960px\");\n",
       "  $(\"#chart1\").height(\"400px\");        \n",
       "  var margin = {top: 20, right: 20, bottom: 30, left: 40};\n",
       "  var width = 880 - margin.left - margin.right;\n",
       "  var height = 500 - margin.top - margin.bottom;\n",
       "  var svg = d3.select(\"#chart1\").append(\"svg\")\n",
       "    .style(\"position\", \"relative\")\n",
       "    .style(\"max-width\", \"960px\")\n",
       "    .attr(\"width\", width + \"px\")\n",
       "    .attr(\"height\", (height + 50) + \"px\");\n",
       "  svg.append('g')\n",
       "     .attr(\"id\", \"xAxis\");\n",
       "  svg.append('g')\n",
       "     .attr(\"id\", \"yAxis\");\n",
       "    console.log(d3);\n",
       "  let yScale = d3.scaleLinear()\n",
       "            .domain([d3.min(attribValues, d => d), d3.max(attribValues, d => d)])\n",
       "            .range([svgHeight - margin.top - margin.bottom, 0]);\n",
       "\n",
       "        let yAxis = d3.axisLeft();\n",
       "        // assign the scale to the axis\n",
       "        yAxis.scale(yScale);\n",
       "\n",
       "\n",
       "        var yAxisG = d3.select(\"#yAxis\")\n",
       "            .attr(\"transform\", \"translate(\"+margin.left+\",\" + margin.top +\")\");\n",
       "        // self.svg.append(\"g\")\n",
       "        // .attr(\"class\" , \"yAxis\");\n",
       "\n",
       "        console.log(yAxisG);\n",
       "\n",
       "        yAxisG.transition(3000).call(yAxis);\n",
       "\n",
       "\n",
       "        let xScale = d3.scaleLinear()\n",
       "            .domain([d3.min(yearValues), d3.max(yearValues)])\n",
       "            .range([0, 600]);\n",
       "\n",
       "        let xAxis = d3.axisBottom();\n",
       "        // assign the scale to the axis\n",
       "        xAxis.scale(xScale);\n",
       "\n",
       "\n",
       "        var xAxisG = d3.select(\"#xAxis\")\n",
       "            .attr(\"transform\", \"translate(\"+(margin.left+ 10)+\",\" + (svgHeight - margin.bottom) +\")\");\n",
       "        // self.svg.append(\"g\")\n",
       "        // .attr(\"class\" , \"yAxis\");\n",
       "\n",
       "        console.log(xAxisG);\n",
       "//         let color = d3.scaleLinear()\n",
       "//             .domain([0, playerYearDataList.length])\n",
       "//             // .range([\"#016450\", \"#ece2f0\"]);\n",
       "//             .range([\"#2019F6\", \"#F61936\"]);\n",
       "\n",
       "        xAxisG.transition(3000).call(xAxis);\n",
       "        svg.selectAll(\".playerPath\").remove();\n",
       "        svg.selectAll(\".playerNode\").remove();\n",
       "            console.log(player.name);\n",
       "            console.log(player.playerYearData);\n",
       "\n",
       "            var lineCoords = []\n",
       "            for(var k=0; k<yearValues.length; k++){\n",
       "                lineCoords.push([xScale(yearValues[k]), yScale(attribValues[k])]);\n",
       "            }\n",
       "\n",
       "            console.log(lineCoords);\n",
       "\n",
       "            var lineGenerator = d3.line();\n",
       "            var pathString = lineGenerator(lineCoords);\n",
       "\n",
       "            console.log(pathString);\n",
       "\n",
       "            svg.append('path')\n",
       "                .attr('d', pathString)\n",
       "                .attr(\"transform\", \"translate(\"+(margin.left+ 10)+\",\" + (margin.top) +\")\")\n",
       "                .attr(\"style\", \"fill : none;\")\n",
       "                .attr(\"class\", \"playerPath\")\n",
       "                .style(\"stroke\", \"steelblue\")\n",
       "                .style(\"stroke-width\", 3)\n",
       "                .style('opacity', 0.5);\n",
       "            \n",
       "            lineCoords.forEach(function(point){\n",
       "                svg.append('circle').attr('cx', point[0])\n",
       "                    .attr(\"cy\", point[1])\n",
       "                    .attr(\"r\", 5)\n",
       "                    .attr(\"transform\", \"translate(\"+(margin.left+ 10)+\",\" + (margin.top) +\")\")\n",
       "                    .attr(\"class\", \"playerNode\");\n",
       "            });\n",
       "            d3.selectAll(\".brush\").remove();\n",
       "        var brush = d3.brushX().extent([[margin.left,svgHeight-margin.bottom-20],[svgWidth,svgHeight-10]]).on(\"end\", brushed);\n",
       "\n",
       "        svg.append(\"g\").attr(\"class\", \"brush\").call(brush);\n",
       "\n",
       "\n",
       "        function brushed() {\n",
       "\n",
       "            var sel = d3.event.selection;\n",
       "\n",
       "            if(sel === null){\n",
       "                return;\n",
       "            }\n",
       "\n",
       "            var yearValuesBrushed = yearValues.filter((d) => xScale(d)+margin.left+ 10 >= sel[\"0\"] &&  xScale(d)+margin.left+ 10  <= sel[\"1\"]);\n",
       "\n",
       "            \n",
       "\n",
       "            console.log(yearValuesBrushed);\n",
       "            that.model.set('selected_years', yearValuesBrushed);\n",
       "            that.model.save_changes();\n",
       "            that.touch();\n",
       "//             alert(that.model.get('test'));\n",
       "\n",
       "            // var dataSel = self.posd.filter((d) => d.position >= sel[\"0\"] && d.position <= sel[\"1\"]);\n",
       "            // window.selectedStatesIn = dataSel.map( d => d.elem);\n",
       "            // self.shiftChart.update(window.selectedStatesIn, window.selectedYearsIn);\n",
       "//             self.updateBars(playerYearDataList, uniqueYrs , attrib, color);\n",
       "\n",
       "\n",
       "        }\n",
       "        },\n",
       "    });\n",
       "\n",
       "    return {\n",
       "        LineView : LineView\n",
       "    };\n",
       "});"
      ],
      "text/plain": [
       "<IPython.core.display.Javascript object>"
      ]
     },
     "metadata": {},
     "output_type": "display_data"
    }
   ],
   "source": [
    "%%javascript\n",
    "require.undef('lineChart');\n",
    "define('lineChart', [\"@jupyter-widgets/base\", \"d3\"], function(widgets, d3) {\n",
    "\n",
    "    var LineView = widgets.DOMWidgetView.extend({\n",
    "\n",
    "        render: function() {\n",
    "            this.value_changed();\n",
    "//             this.model.on('change:value', this.value_changed, this);\n",
    "            this.listenTo(this.model, 'change:value', this.value_changed, this);\n",
    "        },\n",
    "\n",
    "        value_changed: function() {\n",
    "            var player = this.model.get('value');\n",
    "            var that = this;\n",
    "            var test = this.model.get('count');\n",
    "//             alert(test);\n",
    "var yearValues = [];\n",
    "var attribValues = [];\n",
    "var playerYearDataList = [];\n",
    "player.sort(function(x, y){\n",
    "    return d3.ascending(x[2], y[2]);\n",
    "})\n",
    "console.log(player);\n",
    "player.forEach(function(d){\n",
    "    yearValues.push(d[\"year\"]);\n",
    "    attribValues.push(d[\"overall_rating\"]);\n",
    "})\n",
    "console.log(yearValues);\n",
    "console.log(attribValues);\n",
    "var margin = {top: 10, right: 30, bottom: 30, left: 50};\n",
    "var svgHeight = 400;\n",
    "var svgWidth = 1000;\n",
    "  //create canvas\n",
    "  $(\"#chart1\").remove();\n",
    "  this.$el.append(\"<div id='chart1'></div>\");\n",
    "  $(\"#chart1\").width(\"960px\");\n",
    "  $(\"#chart1\").height(\"400px\");        \n",
    "  var margin = {top: 20, right: 20, bottom: 30, left: 40};\n",
    "  var width = 880 - margin.left - margin.right;\n",
    "  var height = 500 - margin.top - margin.bottom;\n",
    "  var svg = d3.select(\"#chart1\").append(\"svg\")\n",
    "    .style(\"position\", \"relative\")\n",
    "    .style(\"max-width\", \"960px\")\n",
    "    .attr(\"width\", width + \"px\")\n",
    "    .attr(\"height\", (height + 50) + \"px\");\n",
    "  svg.append('g')\n",
    "     .attr(\"id\", \"xAxis\");\n",
    "  svg.append('g')\n",
    "     .attr(\"id\", \"yAxis\");\n",
    "    console.log(d3);\n",
    "  let yScale = d3.scaleLinear()\n",
    "            .domain([d3.min(attribValues, d => d), d3.max(attribValues, d => d)])\n",
    "            .range([svgHeight - margin.top - margin.bottom, 0]);\n",
    "\n",
    "        let yAxis = d3.axisLeft();\n",
    "        // assign the scale to the axis\n",
    "        yAxis.scale(yScale);\n",
    "\n",
    "\n",
    "        var yAxisG = d3.select(\"#yAxis\")\n",
    "            .attr(\"transform\", \"translate(\"+margin.left+\",\" + margin.top +\")\");\n",
    "        // self.svg.append(\"g\")\n",
    "        // .attr(\"class\" , \"yAxis\");\n",
    "\n",
    "        console.log(yAxisG);\n",
    "\n",
    "        yAxisG.transition(3000).call(yAxis);\n",
    "\n",
    "\n",
    "        let xScale = d3.scaleLinear()\n",
    "            .domain([d3.min(yearValues), d3.max(yearValues)])\n",
    "            .range([0, 600]);\n",
    "\n",
    "        let xAxis = d3.axisBottom();\n",
    "        // assign the scale to the axis\n",
    "        xAxis.scale(xScale);\n",
    "\n",
    "\n",
    "        var xAxisG = d3.select(\"#xAxis\")\n",
    "            .attr(\"transform\", \"translate(\"+(margin.left+ 10)+\",\" + (svgHeight - margin.bottom) +\")\");\n",
    "        // self.svg.append(\"g\")\n",
    "        // .attr(\"class\" , \"yAxis\");\n",
    "\n",
    "        console.log(xAxisG);\n",
    "//         let color = d3.scaleLinear()\n",
    "//             .domain([0, playerYearDataList.length])\n",
    "//             // .range([\"#016450\", \"#ece2f0\"]);\n",
    "//             .range([\"#2019F6\", \"#F61936\"]);\n",
    "\n",
    "        xAxisG.transition(3000).call(xAxis);\n",
    "        svg.selectAll(\".playerPath\").remove();\n",
    "        svg.selectAll(\".playerNode\").remove();\n",
    "            console.log(player.name);\n",
    "            console.log(player.playerYearData);\n",
    "\n",
    "            var lineCoords = []\n",
    "            for(var k=0; k<yearValues.length; k++){\n",
    "                lineCoords.push([xScale(yearValues[k]), yScale(attribValues[k])]);\n",
    "            }\n",
    "\n",
    "            console.log(lineCoords);\n",
    "\n",
    "            var lineGenerator = d3.line();\n",
    "            var pathString = lineGenerator(lineCoords);\n",
    "\n",
    "            console.log(pathString);\n",
    "\n",
    "            svg.append('path')\n",
    "                .attr('d', pathString)\n",
    "                .attr(\"transform\", \"translate(\"+(margin.left+ 10)+\",\" + (margin.top) +\")\")\n",
    "                .attr(\"style\", \"fill : none;\")\n",
    "                .attr(\"class\", \"playerPath\")\n",
    "                .style(\"stroke\", \"steelblue\")\n",
    "                .style(\"stroke-width\", 3)\n",
    "                .style('opacity', 0.5);\n",
    "            \n",
    "            lineCoords.forEach(function(point){\n",
    "                svg.append('circle').attr('cx', point[0])\n",
    "                    .attr(\"cy\", point[1])\n",
    "                    .attr(\"r\", 5)\n",
    "                    .attr(\"transform\", \"translate(\"+(margin.left+ 10)+\",\" + (margin.top) +\")\")\n",
    "                    .attr(\"class\", \"playerNode\");\n",
    "            });\n",
    "            d3.selectAll(\".brush\").remove();\n",
    "        var brush = d3.brushX().extent([[margin.left,svgHeight-margin.bottom-20],[svgWidth,svgHeight-10]]).on(\"end\", brushed);\n",
    "\n",
    "        svg.append(\"g\").attr(\"class\", \"brush\").call(brush);\n",
    "\n",
    "\n",
    "        function brushed() {\n",
    "\n",
    "            var sel = d3.event.selection;\n",
    "\n",
    "            if(sel === null){\n",
    "                return;\n",
    "            }\n",
    "\n",
    "            var yearValuesBrushed = yearValues.filter((d) => xScale(d)+margin.left+ 10 >= sel[\"0\"] &&  xScale(d)+margin.left+ 10  <= sel[\"1\"]);\n",
    "\n",
    "            \n",
    "\n",
    "            console.log(yearValuesBrushed);\n",
    "            that.model.set('selected_years', yearValuesBrushed);\n",
    "            that.model.save_changes();\n",
    "            that.touch();\n",
    "//             alert(that.model.get('test'));\n",
    "\n",
    "            // var dataSel = self.posd.filter((d) => d.position >= sel[\"0\"] && d.position <= sel[\"1\"]);\n",
    "            // window.selectedStatesIn = dataSel.map( d => d.elem);\n",
    "            // self.shiftChart.update(window.selectedStatesIn, window.selectedYearsIn);\n",
    "//             self.updateBars(playerYearDataList, uniqueYrs , attrib, color);\n",
    "\n",
    "\n",
    "        }\n",
    "        },\n",
    "    });\n",
    "\n",
    "    return {\n",
    "        LineView : LineView\n",
    "    };\n",
    "});"
   ]
  },
  {
   "cell_type": "code",
   "execution_count": 38,
   "metadata": {},
   "outputs": [
    {
     "data": {
      "application/vnd.jupyter.widget-view+json": {
       "model_id": "b33b0dcd443f48d2a6b14425cad7b748",
       "version_major": 2,
       "version_minor": 0
      },
      "text/html": [
       "<p>Failed to display Jupyter Widget of type <code>BarWidget</code>.</p>\n",
       "<p>\n",
       "  If you're reading this message in the Jupyter Notebook or JupyterLab Notebook, it may mean\n",
       "  that the widgets JavaScript is still loading. If this message persists, it\n",
       "  likely means that the widgets JavaScript library is either not installed or\n",
       "  not enabled. See the <a href=\"https://ipywidgets.readthedocs.io/en/stable/user_install.html\">Jupyter\n",
       "  Widgets Documentation</a> for setup instructions.\n",
       "</p>\n",
       "<p>\n",
       "  If you're reading this message in another frontend (for example, a static\n",
       "  rendering on GitHub or <a href=\"https://nbviewer.jupyter.org/\">NBViewer</a>),\n",
       "  it may mean that your frontend doesn't currently support widgets.\n",
       "</p>\n"
      ],
      "text/plain": [
       "BarWidget()"
      ]
     },
     "metadata": {},
     "output_type": "display_data"
    }
   ],
   "source": [
    "barWidget = BarWidget()\n",
    "def updateBar():\n",
    "    barWidget.value = data_average_top5.to_dict(orient='records')\n",
    "display(barWidget)\n",
    "updateBar()"
   ]
  },
  {
   "cell_type": "code",
   "execution_count": 39,
   "metadata": {},
   "outputs": [
    {
     "data": {
      "text/plain": [
       "'Arjen Robben'"
      ]
     },
     "execution_count": 39,
     "metadata": {},
     "output_type": "execute_result"
    }
   ],
   "source": [
    "barWidget.player_name"
   ]
  },
  {
   "cell_type": "markdown",
   "metadata": {},
   "source": [
    "We need to initialize the line widget before using it. Also updateLineChart function filters the data based on the name."
   ]
  },
  {
   "cell_type": "code",
   "execution_count": 40,
   "metadata": {
    "collapsed": true
   },
   "outputs": [],
   "source": [
    "lineWidget = LineWidget()\n",
    "def updateLineChart(name):\n",
    "    filterByName = players_data[players_data[\"player_name\"]==name]\n",
    "    jsonValue = filterByName[[\"player_name\", \"overall_rating\", \"year\"]]\n",
    "    lineWidget.value = jsonValue.to_dict(orient='records')"
   ]
  },
  {
   "cell_type": "markdown",
   "metadata": {},
   "source": [
    "After selecting any player from above bar chart, we will run the following cell to show the progress of him over the years."
   ]
  },
  {
   "cell_type": "code",
   "execution_count": 43,
   "metadata": {},
   "outputs": [
    {
     "data": {
      "application/vnd.jupyter.widget-view+json": {
       "model_id": "4bdb346c5e8448318cad04929e0880d0",
       "version_major": 2,
       "version_minor": 0
      },
      "text/html": [
       "<p>Failed to display Jupyter Widget of type <code>LineWidget</code>.</p>\n",
       "<p>\n",
       "  If you're reading this message in the Jupyter Notebook or JupyterLab Notebook, it may mean\n",
       "  that the widgets JavaScript is still loading. If this message persists, it\n",
       "  likely means that the widgets JavaScript library is either not installed or\n",
       "  not enabled. See the <a href=\"https://ipywidgets.readthedocs.io/en/stable/user_install.html\">Jupyter\n",
       "  Widgets Documentation</a> for setup instructions.\n",
       "</p>\n",
       "<p>\n",
       "  If you're reading this message in another frontend (for example, a static\n",
       "  rendering on GitHub or <a href=\"https://nbviewer.jupyter.org/\">NBViewer</a>),\n",
       "  it may mean that your frontend doesn't currently support widgets.\n",
       "</p>\n"
      ],
      "text/plain": [
       "LineWidget(value=[{'player_name': 'Andres Iniesta', 'overall_rating': 83.5, 'year': 2007}, {'player_name': 'Andres Iniesta', 'overall_rating': 86.0, 'year': 2008}, {'player_name': 'Andres Iniesta', 'overall_rating': 86.0, 'year': 2009}, {'player_name': 'Andres Iniesta', 'overall_rating': 87.0, 'year': 2010}, {'player_name': 'Andres Iniesta', 'overall_rating': 89.0, 'year': 2011}, {'player_name': 'Andres Iniesta', 'overall_rating': 90.5, 'year': 2012}, {'player_name': 'Andres Iniesta', 'overall_rating': 89.75, 'year': 2013}, {'player_name': 'Andres Iniesta', 'overall_rating': 89.0, 'year': 2014}, {'player_name': 'Andres Iniesta', 'overall_rating': 88.0, 'year': 2015}])"
      ]
     },
     "metadata": {},
     "output_type": "display_data"
    }
   ],
   "source": [
    "display(lineWidget)\n",
    "updateLineChart(barWidget.player_name)"
   ]
  },
  {
   "cell_type": "markdown",
   "metadata": {},
   "source": [
    "## Example 2: Bar chart - Filter\n",
    "\n",
    "This example shows the implementation of filtering.\n",
    "\n",
    "The initial bar chart shows the average score of all 50 players. We will have a text box to enter a number, then the plot will be updated to show the players having average score of more than or equal to the entered number. "
   ]
  },
  {
   "cell_type": "code",
   "execution_count": 44,
   "metadata": {
    "scrolled": true
   },
   "outputs": [
    {
     "data": {
      "application/vnd.jupyter.widget-view+json": {
       "model_id": "23f19862e98b4451b27daf1b9793def6",
       "version_major": 2,
       "version_minor": 0
      },
      "text/html": [
       "<p>Failed to display Jupyter Widget of type <code>FloatText</code>.</p>\n",
       "<p>\n",
       "  If you're reading this message in the Jupyter Notebook or JupyterLab Notebook, it may mean\n",
       "  that the widgets JavaScript is still loading. If this message persists, it\n",
       "  likely means that the widgets JavaScript library is either not installed or\n",
       "  not enabled. See the <a href=\"https://ipywidgets.readthedocs.io/en/stable/user_install.html\">Jupyter\n",
       "  Widgets Documentation</a> for setup instructions.\n",
       "</p>\n",
       "<p>\n",
       "  If you're reading this message in another frontend (for example, a static\n",
       "  rendering on GitHub or <a href=\"https://nbviewer.jupyter.org/\">NBViewer</a>),\n",
       "  it may mean that your frontend doesn't currently support widgets.\n",
       "</p>\n"
      ],
      "text/plain": [
       "FloatText(value=0.0, description='Show player with score more than or equal to:')"
      ]
     },
     "metadata": {},
     "output_type": "display_data"
    },
    {
     "data": {
      "application/vnd.jupyter.widget-view+json": {
       "model_id": "58e966d90a4f449489c2e83ac4526c25",
       "version_major": 2,
       "version_minor": 0
      },
      "text/html": [
       "<p>Failed to display Jupyter Widget of type <code>BarWidget</code>.</p>\n",
       "<p>\n",
       "  If you're reading this message in the Jupyter Notebook or JupyterLab Notebook, it may mean\n",
       "  that the widgets JavaScript is still loading. If this message persists, it\n",
       "  likely means that the widgets JavaScript library is either not installed or\n",
       "  not enabled. See the <a href=\"https://ipywidgets.readthedocs.io/en/stable/user_install.html\">Jupyter\n",
       "  Widgets Documentation</a> for setup instructions.\n",
       "</p>\n",
       "<p>\n",
       "  If you're reading this message in another frontend (for example, a static\n",
       "  rendering on GitHub or <a href=\"https://nbviewer.jupyter.org/\">NBViewer</a>),\n",
       "  it may mean that your frontend doesn't currently support widgets.\n",
       "</p>\n"
      ],
      "text/plain": [
       "BarWidget()"
      ]
     },
     "metadata": {},
     "output_type": "display_data"
    }
   ],
   "source": [
    "barChart2 = BarWidget()\n",
    "def updateBarChart2(score):\n",
    "    player_with_score = data_average[data_average['average_score']>score['new']]\n",
    "    barChart2.value = player_with_score.to_dict(orient='records')\n",
    "def createScoreTextBox():\n",
    "    score_text_box = widgets.widgets.FloatText(\n",
    "    value=0,\n",
    "    description='Show player with score more than or equal to:',\n",
    "    disabled=False\n",
    "    )\n",
    "    score_text_box.observe(updateBarChart2, names='value')\n",
    "    display(score_text_box)\n",
    "createScoreTextBox()\n",
    "display(barChart2)\n",
    "updateBarChart2({'new':0})"
   ]
  },
  {
   "cell_type": "markdown",
   "metadata": {},
   "source": [
    "### Example 3 - Range selection using brush\n",
    "\n",
    "The goal is to get the brush selection in d3 plot to python side. It is achieved in the same way as above. We will create another varuable (trait) and update it in front-end.\n",
    "\n",
    "The following line chart shows the progress of player Messi. Then we will print the selected years to make sure that we recieve the range"
   ]
  },
  {
   "cell_type": "code",
   "execution_count": 45,
   "metadata": {},
   "outputs": [
    {
     "data": {
      "application/vnd.jupyter.widget-view+json": {
       "model_id": "83303a7ba1fd4a85a7ac3676cf1e7607",
       "version_major": 2,
       "version_minor": 0
      },
      "text/html": [
       "<p>Failed to display Jupyter Widget of type <code>LineWidget</code>.</p>\n",
       "<p>\n",
       "  If you're reading this message in the Jupyter Notebook or JupyterLab Notebook, it may mean\n",
       "  that the widgets JavaScript is still loading. If this message persists, it\n",
       "  likely means that the widgets JavaScript library is either not installed or\n",
       "  not enabled. See the <a href=\"https://ipywidgets.readthedocs.io/en/stable/user_install.html\">Jupyter\n",
       "  Widgets Documentation</a> for setup instructions.\n",
       "</p>\n",
       "<p>\n",
       "  If you're reading this message in another frontend (for example, a static\n",
       "  rendering on GitHub or <a href=\"https://nbviewer.jupyter.org/\">NBViewer</a>),\n",
       "  it may mean that your frontend doesn't currently support widgets.\n",
       "</p>\n"
      ],
      "text/plain": [
       "LineWidget()"
      ]
     },
     "metadata": {},
     "output_type": "display_data"
    }
   ],
   "source": [
    "lineWidget2 = LineWidget()\n",
    "def showProgressOfPlayer(name):\n",
    "    filterByName = players_data[players_data[\"player_name\"]==name]\n",
    "    returnData = filterByName[[\"player_name\", \"overall_rating\", \"year\"]]\n",
    "    lineWidget2.value = returnData.to_dict(orient='records')\n",
    "display(lineWidget2)\n",
    "showProgressOfPlayer(\"Lionel Messi\")"
   ]
  },
  {
   "cell_type": "code",
   "execution_count": 46,
   "metadata": {},
   "outputs": [
    {
     "data": {
      "text/plain": [
       "[2010, 2011, 2012]"
      ]
     },
     "execution_count": 46,
     "metadata": {},
     "output_type": "execute_result"
    }
   ],
   "source": [
    "lineWidget2.selected_years"
   ]
  }
 ],
 "metadata": {
  "kernelspec": {
   "display_name": "Python 3",
   "language": "python",
   "name": "python3"
  },
  "language_info": {
   "codemirror_mode": {
    "name": "ipython",
    "version": 3
   },
   "file_extension": ".py",
   "mimetype": "text/x-python",
   "name": "python",
   "nbconvert_exporter": "python",
   "pygments_lexer": "ipython3",
   "version": "3.6.3"
  }
 },
 "nbformat": 4,
 "nbformat_minor": 2
}
